{
  "nbformat": 4,
  "nbformat_minor": 0,
  "metadata": {
    "colab": {
      "provenance": [],
      "authorship_tag": "ABX9TyM0ihgwzAToqXghgA9Eum7Y",
      "include_colab_link": true
    },
    "kernelspec": {
      "name": "python3",
      "display_name": "Python 3"
    },
    "language_info": {
      "name": "python"
    }
  },
  "cells": [
    {
      "cell_type": "markdown",
      "metadata": {
        "id": "view-in-github",
        "colab_type": "text"
      },
      "source": [
        "<a href=\"https://colab.research.google.com/github/ANIRUDH9325/MACHINE-LEARNING-MODULE-3-ASSIGNMENT/blob/FEATURE-ENGINEERING-ASSIGNMENT/FEATURE_ENGINEERING_ASSIGNMENT.ipynb\" target=\"_parent\"><img src=\"https://colab.research.google.com/assets/colab-badge.svg\" alt=\"Open In Colab\"/></a>"
      ]
    },
    {
      "cell_type": "markdown",
      "source": [
        "What is a parameter?\n",
        "A parameter is a variable in a model that the learning algorithm adjusts during training to optimize predictions. In machine learning, parameters include weights and biases in neural networks or coefficients in linear regression."
      ],
      "metadata": {
        "id": "ZzstWMXdOCG_"
      }
    },
    {
      "cell_type": "code",
      "source": [],
      "metadata": {
        "id": "n2hc4vT8ODaB"
      },
      "execution_count": null,
      "outputs": []
    },
    {
      "cell_type": "markdown",
      "source": [
        "What is correlation?\n",
        "Correlation is a statistical measure that describes the relationship between two variables, indicating whether they move together and in what direction.\n",
        "\n",
        "What does negative correlation mean?\n",
        "A negative correlation means that as one variable increases, the other decreases. For example, temperature and the number of jackets sold might have a negative correlation.\n",
        "\n",
        "Define Machine Learning. What are the main components in Machine Learning?\n",
        "Machine Learning (ML) is a field of artificial intelligence that enables computers to learn patterns from data and make predictions or decisions without explicit programming.\n",
        "Main components:\n",
        "\n",
        "Data (input for learning)\n",
        "Features (relevant attributes in data)\n",
        "Model (algorithm for learning patterns)\n",
        "Loss function (measures prediction error)\n",
        "Optimizer (adjusts model parameters to minimize loss)\n",
        "Evaluation metric (measures model performance)\n",
        "How does loss value help in determining whether the model is good or not?\n",
        "The loss value quantifies the error between predicted and actual values. A lower loss means better performance, while a high loss suggests the model isn't learning well.\n",
        "\n",
        "What are continuous and categorical variables?\n",
        "\n",
        "Continuous variables: Numeric variables that have infinite possible values (e.g., height, temperature).\n",
        "Categorical variables: Variables that represent discrete categories (e.g., gender, country, color).\n",
        "How do we handle categorical variables in Machine Learning? What are the common techniques?\n",
        "Common techniques:\n",
        "\n",
        "Label Encoding (assigns numbers to categories)\n",
        "One-Hot Encoding (creates binary columns for each category)\n",
        "Ordinal Encoding (assigns ordered numbers)\n",
        "Target Encoding (assigns mean of target variable for each category)\n",
        "What do you mean by training and testing a dataset?\n",
        "\n",
        "Training dataset: Used to train the model by adjusting parameters.\n",
        "Testing dataset: Used to evaluate the model’s performance on unseen data.\n",
        "What is sklearn.preprocessing?\n",
        "It is a module in Scikit-Learn that provides tools for preprocessing data, including scaling, encoding categorical variables, and feature transformation."
      ],
      "metadata": {
        "id": "Z-B9ui7pOD8U"
      }
    },
    {
      "cell_type": "code",
      "source": [
        "#How do we split data for model fitting (training and testing) in Python?\n",
        "from sklearn.model_selection import train_test_split\n",
        "X_train, X_test, y_train, y_test = train_test_split(X, y, test_size=0.2, random_state=42)\n"
      ],
      "metadata": {
        "colab": {
          "base_uri": "https://localhost:8080/",
          "height": 176
        },
        "id": "d98pylw_OVq4",
        "outputId": "dab5ba9e-ccc3-4490-fabf-f449ad2cc119"
      },
      "execution_count": 1,
      "outputs": [
        {
          "output_type": "error",
          "ename": "NameError",
          "evalue": "name 'X' is not defined",
          "traceback": [
            "\u001b[0;31m---------------------------------------------------------------------------\u001b[0m",
            "\u001b[0;31mNameError\u001b[0m                                 Traceback (most recent call last)",
            "\u001b[0;32m<ipython-input-1-5de5073269ca>\u001b[0m in \u001b[0;36m<cell line: 0>\u001b[0;34m()\u001b[0m\n\u001b[1;32m      1\u001b[0m \u001b[0;31m#How do we split data for model fitting (training and testing) in Python?\u001b[0m\u001b[0;34m\u001b[0m\u001b[0;34m\u001b[0m\u001b[0m\n\u001b[1;32m      2\u001b[0m \u001b[0;32mfrom\u001b[0m \u001b[0msklearn\u001b[0m\u001b[0;34m.\u001b[0m\u001b[0mmodel_selection\u001b[0m \u001b[0;32mimport\u001b[0m \u001b[0mtrain_test_split\u001b[0m\u001b[0;34m\u001b[0m\u001b[0;34m\u001b[0m\u001b[0m\n\u001b[0;32m----> 3\u001b[0;31m \u001b[0mX_train\u001b[0m\u001b[0;34m,\u001b[0m \u001b[0mX_test\u001b[0m\u001b[0;34m,\u001b[0m \u001b[0my_train\u001b[0m\u001b[0;34m,\u001b[0m \u001b[0my_test\u001b[0m \u001b[0;34m=\u001b[0m \u001b[0mtrain_test_split\u001b[0m\u001b[0;34m(\u001b[0m\u001b[0mX\u001b[0m\u001b[0;34m,\u001b[0m \u001b[0my\u001b[0m\u001b[0;34m,\u001b[0m \u001b[0mtest_size\u001b[0m\u001b[0;34m=\u001b[0m\u001b[0;36m0.2\u001b[0m\u001b[0;34m,\u001b[0m \u001b[0mrandom_state\u001b[0m\u001b[0;34m=\u001b[0m\u001b[0;36m42\u001b[0m\u001b[0;34m)\u001b[0m\u001b[0;34m\u001b[0m\u001b[0;34m\u001b[0m\u001b[0m\n\u001b[0m",
            "\u001b[0;31mNameError\u001b[0m: name 'X' is not defined"
          ]
        }
      ]
    },
    {
      "cell_type": "code",
      "source": [],
      "metadata": {
        "id": "MhFqycEnObaQ"
      },
      "execution_count": null,
      "outputs": []
    },
    {
      "cell_type": "markdown",
      "source": [
        "How do you approach a Machine Learning problem?\n",
        "\n",
        "Define the problem\n",
        "Collect and clean data\n",
        "Perform Exploratory Data Analysis (EDA)\n",
        "Preprocess data (handle missing values, encoding, scaling)\n",
        "Select model(s)\n",
        "Train the model\n",
        "Evaluate the model\n",
        "Fine-tune the model\n",
        "Deploy the model\n",
        "Why do we have to perform EDA before fitting a model to the data?\n",
        "EDA helps understand data distribution, detect missing values, identify patterns, and choose appropriate preprocessing and modeling techniques.\n",
        "\n",
        "What is correlation?\n",
        "Correlation measures the relationship between two variables and their dependence.\n",
        "\n",
        "What does negative correlation mean?\n",
        "When one variable increases while the other decreases."
      ],
      "metadata": {
        "id": "9NAEPHkXOha1"
      }
    },
    {
      "cell_type": "code",
      "source": [
        "#How can you find correlation between variables in Python?\n",
        "import pandas as pd\n",
        "correlation_matrix = df.corr()\n",
        "print(correlation_matrix)\n"
      ],
      "metadata": {
        "colab": {
          "base_uri": "https://localhost:8080/",
          "height": 193
        },
        "id": "trpcMHrUOh48",
        "outputId": "e6be5308-32d7-466b-fb3d-9d7e433d14a5"
      },
      "execution_count": 2,
      "outputs": [
        {
          "output_type": "error",
          "ename": "NameError",
          "evalue": "name 'df' is not defined",
          "traceback": [
            "\u001b[0;31m---------------------------------------------------------------------------\u001b[0m",
            "\u001b[0;31mNameError\u001b[0m                                 Traceback (most recent call last)",
            "\u001b[0;32m<ipython-input-2-54ba9090bcff>\u001b[0m in \u001b[0;36m<cell line: 0>\u001b[0;34m()\u001b[0m\n\u001b[1;32m      1\u001b[0m \u001b[0;31m#How can you find correlation between variables in Python?\u001b[0m\u001b[0;34m\u001b[0m\u001b[0;34m\u001b[0m\u001b[0m\n\u001b[1;32m      2\u001b[0m \u001b[0;32mimport\u001b[0m \u001b[0mpandas\u001b[0m \u001b[0;32mas\u001b[0m \u001b[0mpd\u001b[0m\u001b[0;34m\u001b[0m\u001b[0;34m\u001b[0m\u001b[0m\n\u001b[0;32m----> 3\u001b[0;31m \u001b[0mcorrelation_matrix\u001b[0m \u001b[0;34m=\u001b[0m \u001b[0mdf\u001b[0m\u001b[0;34m.\u001b[0m\u001b[0mcorr\u001b[0m\u001b[0;34m(\u001b[0m\u001b[0;34m)\u001b[0m\u001b[0;34m\u001b[0m\u001b[0;34m\u001b[0m\u001b[0m\n\u001b[0m\u001b[1;32m      4\u001b[0m \u001b[0mprint\u001b[0m\u001b[0;34m(\u001b[0m\u001b[0mcorrelation_matrix\u001b[0m\u001b[0;34m)\u001b[0m\u001b[0;34m\u001b[0m\u001b[0;34m\u001b[0m\u001b[0m\n",
            "\u001b[0;31mNameError\u001b[0m: name 'df' is not defined"
          ]
        }
      ]
    },
    {
      "cell_type": "code",
      "source": [],
      "metadata": {
        "id": "ztZVCEcdOvJ4"
      },
      "execution_count": null,
      "outputs": []
    },
    {
      "cell_type": "markdown",
      "source": [
        "What is causation? Explain the difference between correlation and causation with an example.\n",
        "\n",
        "Causation: One event directly influences another.\n",
        "Correlation: Two variables are related but don’t necessarily cause each other.\n",
        "Example: Ice cream sales and drowning incidents are correlated, but the cause is summer heat."
      ],
      "metadata": {
        "id": "qqZ6-BfNO1__"
      }
    },
    {
      "cell_type": "code",
      "source": [],
      "metadata": {
        "id": "iPXmk1FWO2mI"
      },
      "execution_count": null,
      "outputs": []
    },
    {
      "cell_type": "markdown",
      "source": [
        "What is an Optimizer? What are different types of optimizers? Explain each with an example.\n",
        "An optimizer adjusts model parameters to minimize loss.\n",
        "Types:\n",
        "\n",
        "Gradient Descent (basic optimization algorithm)\n",
        "Stochastic Gradient Descent (SGD) (updates using random subsets)\n",
        "Adam (adaptive learning rate)\n",
        "RMSprop (uses moving average of squared gradients)"
      ],
      "metadata": {
        "id": "bbnhU4NkO3CR"
      }
    },
    {
      "cell_type": "code",
      "source": [],
      "metadata": {
        "id": "v6ywfTNzO6IM"
      },
      "execution_count": null,
      "outputs": []
    },
    {
      "cell_type": "markdown",
      "source": [
        "What is sklearn.linear_model?\n",
        "A module in Scikit-Learn that provides linear regression models like Linear Regression, Logistic Regression, and Ridge Regression."
      ],
      "metadata": {
        "id": "oSZrxnvBO8W7"
      }
    },
    {
      "cell_type": "code",
      "source": [],
      "metadata": {
        "id": "mVf88KEFO8_O"
      },
      "execution_count": null,
      "outputs": []
    },
    {
      "cell_type": "markdown",
      "source": [
        "What does model.fit() do? What arguments must be given?\n",
        "Trains the model using data."
      ],
      "metadata": {
        "id": "uBu0VVnIO9kc"
      }
    },
    {
      "cell_type": "code",
      "source": [
        "y_pred = model.predict(X_test)\n"
      ],
      "metadata": {
        "colab": {
          "base_uri": "https://localhost:8080/",
          "height": 141
        },
        "id": "_hp62NjRPAyM",
        "outputId": "d1182367-6461-46c6-805c-99c26a5d58bf"
      },
      "execution_count": 3,
      "outputs": [
        {
          "output_type": "error",
          "ename": "NameError",
          "evalue": "name 'model' is not defined",
          "traceback": [
            "\u001b[0;31m---------------------------------------------------------------------------\u001b[0m",
            "\u001b[0;31mNameError\u001b[0m                                 Traceback (most recent call last)",
            "\u001b[0;32m<ipython-input-3-33f45f2977c2>\u001b[0m in \u001b[0;36m<cell line: 0>\u001b[0;34m()\u001b[0m\n\u001b[0;32m----> 1\u001b[0;31m \u001b[0my_pred\u001b[0m \u001b[0;34m=\u001b[0m \u001b[0mmodel\u001b[0m\u001b[0;34m.\u001b[0m\u001b[0mpredict\u001b[0m\u001b[0;34m(\u001b[0m\u001b[0mX_test\u001b[0m\u001b[0;34m)\u001b[0m\u001b[0;34m\u001b[0m\u001b[0;34m\u001b[0m\u001b[0m\n\u001b[0m",
            "\u001b[0;31mNameError\u001b[0m: name 'model' is not defined"
          ]
        }
      ]
    },
    {
      "cell_type": "markdown",
      "source": [
        "What is feature scaling? How does it help in Machine Learning?\n",
        "Feature scaling normalizes numerical values to ensure equal contribution of features, preventing bias due to differing magnitudes."
      ],
      "metadata": {
        "id": "991pT64uPDef"
      }
    },
    {
      "cell_type": "code",
      "source": [
        "#How do we perform scaling in Python?\n",
        "from sklearn.preprocessing import StandardScaler\n",
        "scaler = StandardScaler()\n",
        "X_scaled = scaler.fit_transform(X)\n"
      ],
      "metadata": {
        "colab": {
          "base_uri": "https://localhost:8080/",
          "height": 176
        },
        "id": "f5qQvzFbPC6l",
        "outputId": "51f5382d-c385-4bf1-cfed-710b35c4e79f"
      },
      "execution_count": 4,
      "outputs": [
        {
          "output_type": "error",
          "ename": "NameError",
          "evalue": "name 'X' is not defined",
          "traceback": [
            "\u001b[0;31m---------------------------------------------------------------------------\u001b[0m",
            "\u001b[0;31mNameError\u001b[0m                                 Traceback (most recent call last)",
            "\u001b[0;32m<ipython-input-4-e3c58ec10d57>\u001b[0m in \u001b[0;36m<cell line: 0>\u001b[0;34m()\u001b[0m\n\u001b[1;32m      2\u001b[0m \u001b[0;32mfrom\u001b[0m \u001b[0msklearn\u001b[0m\u001b[0;34m.\u001b[0m\u001b[0mpreprocessing\u001b[0m \u001b[0;32mimport\u001b[0m \u001b[0mStandardScaler\u001b[0m\u001b[0;34m\u001b[0m\u001b[0;34m\u001b[0m\u001b[0m\n\u001b[1;32m      3\u001b[0m \u001b[0mscaler\u001b[0m \u001b[0;34m=\u001b[0m \u001b[0mStandardScaler\u001b[0m\u001b[0;34m(\u001b[0m\u001b[0;34m)\u001b[0m\u001b[0;34m\u001b[0m\u001b[0;34m\u001b[0m\u001b[0m\n\u001b[0;32m----> 4\u001b[0;31m \u001b[0mX_scaled\u001b[0m \u001b[0;34m=\u001b[0m \u001b[0mscaler\u001b[0m\u001b[0;34m.\u001b[0m\u001b[0mfit_transform\u001b[0m\u001b[0;34m(\u001b[0m\u001b[0mX\u001b[0m\u001b[0;34m)\u001b[0m\u001b[0;34m\u001b[0m\u001b[0;34m\u001b[0m\u001b[0m\n\u001b[0m",
            "\u001b[0;31mNameError\u001b[0m: name 'X' is not defined"
          ]
        }
      ]
    },
    {
      "cell_type": "code",
      "source": [],
      "metadata": {
        "id": "AD60lh8_PSMZ"
      },
      "execution_count": null,
      "outputs": []
    },
    {
      "cell_type": "markdown",
      "source": [
        "What is sklearn.preprocessing?\n",
        "A Scikit-Learn module for data preprocessing (scaling, encoding, transformation)."
      ],
      "metadata": {
        "id": "wEVZlEZnPVh8"
      }
    },
    {
      "cell_type": "code",
      "source": [],
      "metadata": {
        "id": "1lUkX1plPWKa"
      },
      "execution_count": null,
      "outputs": []
    },
    {
      "cell_type": "markdown",
      "source": [
        "Explain data encoding.\n",
        "Data encoding converts categorical data into numerical format using techniques like One-Hot Encoding, Label Encoding, and Target Encoding."
      ],
      "metadata": {
        "id": "g_r_halqPZac"
      }
    }
  ]
}